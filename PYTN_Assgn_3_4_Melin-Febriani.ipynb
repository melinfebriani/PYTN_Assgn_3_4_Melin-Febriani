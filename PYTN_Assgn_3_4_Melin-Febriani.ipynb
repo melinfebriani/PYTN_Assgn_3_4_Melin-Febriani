{
 "cells": [
  {
   "cell_type": "markdown",
   "source": [
    "# Bank Marketing Dataset"
   ],
   "metadata": {}
  },
  {
   "cell_type": "markdown",
   "source": [
    "## Introduction"
   ],
   "metadata": {}
  },
  {
   "cell_type": "markdown",
   "source": [
    "Dengan menggunakan data Marketing Campaign dari Portugese Banking Institution, kita akan membuat model yang dapat memprediksi apakah client akan menerima atau menolak tawaran deposito yang diberikan."
   ],
   "metadata": {}
  },
  {
   "cell_type": "markdown",
   "source": [
    "## Import Libraries"
   ],
   "metadata": {}
  },
  {
   "cell_type": "code",
   "execution_count": 1,
   "source": [
    "import numpy as np\r\n",
    "import matplotlib.pyplot as plt\r\n",
    "import pandas as pd\r\n",
    "\r\n",
    "from sklearn.linear_model import LogisticRegression\r\n",
    "from sklearn.neighbors import KNeighborsClassifier\r\n",
    "from sklearn import svm\r\n",
    "from sklearn.tree import DecisionTreeClassifier\r\n",
    "from sklearn.ensemble import RandomForestClassifier\r\n",
    "from sklearn.naive_bayes import GaussianNB\r\n",
    "from sklearn import metrics\r\n",
    "from sklearn.model_selection import train_test_split\r\n",
    "from sklearn import preprocessing\r\n"
   ],
   "outputs": [],
   "metadata": {}
  },
  {
   "cell_type": "markdown",
   "source": [
    "## Load and Review Data"
   ],
   "metadata": {}
  },
  {
   "cell_type": "markdown",
   "source": [
    "Pertama, mari impor data terlebih dahulu."
   ],
   "metadata": {}
  },
  {
   "cell_type": "code",
   "execution_count": 2,
   "source": [
    "df_bank = pd.read_csv('E:\\Cool Yeah\\Hacktiv8\\\\Bank\\Data\\\\bank-additional-full.csv', delimiter=';')"
   ],
   "outputs": [],
   "metadata": {}
  },
  {
   "cell_type": "code",
   "execution_count": 3,
   "source": [
    "df_bank.head()"
   ],
   "outputs": [
    {
     "output_type": "execute_result",
     "data": {
      "text/html": [
       "<div>\n",
       "<style scoped>\n",
       "    .dataframe tbody tr th:only-of-type {\n",
       "        vertical-align: middle;\n",
       "    }\n",
       "\n",
       "    .dataframe tbody tr th {\n",
       "        vertical-align: top;\n",
       "    }\n",
       "\n",
       "    .dataframe thead th {\n",
       "        text-align: right;\n",
       "    }\n",
       "</style>\n",
       "<table border=\"1\" class=\"dataframe\">\n",
       "  <thead>\n",
       "    <tr style=\"text-align: right;\">\n",
       "      <th></th>\n",
       "      <th>age</th>\n",
       "      <th>job</th>\n",
       "      <th>marital</th>\n",
       "      <th>education</th>\n",
       "      <th>default</th>\n",
       "      <th>housing</th>\n",
       "      <th>loan</th>\n",
       "      <th>contact</th>\n",
       "      <th>month</th>\n",
       "      <th>day_of_week</th>\n",
       "      <th>...</th>\n",
       "      <th>campaign</th>\n",
       "      <th>pdays</th>\n",
       "      <th>previous</th>\n",
       "      <th>poutcome</th>\n",
       "      <th>emp.var.rate</th>\n",
       "      <th>cons.price.idx</th>\n",
       "      <th>cons.conf.idx</th>\n",
       "      <th>euribor3m</th>\n",
       "      <th>nr.employed</th>\n",
       "      <th>y</th>\n",
       "    </tr>\n",
       "  </thead>\n",
       "  <tbody>\n",
       "    <tr>\n",
       "      <th>0</th>\n",
       "      <td>56</td>\n",
       "      <td>housemaid</td>\n",
       "      <td>married</td>\n",
       "      <td>basic.4y</td>\n",
       "      <td>no</td>\n",
       "      <td>no</td>\n",
       "      <td>no</td>\n",
       "      <td>telephone</td>\n",
       "      <td>may</td>\n",
       "      <td>mon</td>\n",
       "      <td>...</td>\n",
       "      <td>1</td>\n",
       "      <td>999</td>\n",
       "      <td>0</td>\n",
       "      <td>nonexistent</td>\n",
       "      <td>1.1</td>\n",
       "      <td>93.994</td>\n",
       "      <td>-36.4</td>\n",
       "      <td>4.857</td>\n",
       "      <td>5191.0</td>\n",
       "      <td>no</td>\n",
       "    </tr>\n",
       "    <tr>\n",
       "      <th>1</th>\n",
       "      <td>57</td>\n",
       "      <td>services</td>\n",
       "      <td>married</td>\n",
       "      <td>high.school</td>\n",
       "      <td>unknown</td>\n",
       "      <td>no</td>\n",
       "      <td>no</td>\n",
       "      <td>telephone</td>\n",
       "      <td>may</td>\n",
       "      <td>mon</td>\n",
       "      <td>...</td>\n",
       "      <td>1</td>\n",
       "      <td>999</td>\n",
       "      <td>0</td>\n",
       "      <td>nonexistent</td>\n",
       "      <td>1.1</td>\n",
       "      <td>93.994</td>\n",
       "      <td>-36.4</td>\n",
       "      <td>4.857</td>\n",
       "      <td>5191.0</td>\n",
       "      <td>no</td>\n",
       "    </tr>\n",
       "    <tr>\n",
       "      <th>2</th>\n",
       "      <td>37</td>\n",
       "      <td>services</td>\n",
       "      <td>married</td>\n",
       "      <td>high.school</td>\n",
       "      <td>no</td>\n",
       "      <td>yes</td>\n",
       "      <td>no</td>\n",
       "      <td>telephone</td>\n",
       "      <td>may</td>\n",
       "      <td>mon</td>\n",
       "      <td>...</td>\n",
       "      <td>1</td>\n",
       "      <td>999</td>\n",
       "      <td>0</td>\n",
       "      <td>nonexistent</td>\n",
       "      <td>1.1</td>\n",
       "      <td>93.994</td>\n",
       "      <td>-36.4</td>\n",
       "      <td>4.857</td>\n",
       "      <td>5191.0</td>\n",
       "      <td>no</td>\n",
       "    </tr>\n",
       "    <tr>\n",
       "      <th>3</th>\n",
       "      <td>40</td>\n",
       "      <td>admin.</td>\n",
       "      <td>married</td>\n",
       "      <td>basic.6y</td>\n",
       "      <td>no</td>\n",
       "      <td>no</td>\n",
       "      <td>no</td>\n",
       "      <td>telephone</td>\n",
       "      <td>may</td>\n",
       "      <td>mon</td>\n",
       "      <td>...</td>\n",
       "      <td>1</td>\n",
       "      <td>999</td>\n",
       "      <td>0</td>\n",
       "      <td>nonexistent</td>\n",
       "      <td>1.1</td>\n",
       "      <td>93.994</td>\n",
       "      <td>-36.4</td>\n",
       "      <td>4.857</td>\n",
       "      <td>5191.0</td>\n",
       "      <td>no</td>\n",
       "    </tr>\n",
       "    <tr>\n",
       "      <th>4</th>\n",
       "      <td>56</td>\n",
       "      <td>services</td>\n",
       "      <td>married</td>\n",
       "      <td>high.school</td>\n",
       "      <td>no</td>\n",
       "      <td>no</td>\n",
       "      <td>yes</td>\n",
       "      <td>telephone</td>\n",
       "      <td>may</td>\n",
       "      <td>mon</td>\n",
       "      <td>...</td>\n",
       "      <td>1</td>\n",
       "      <td>999</td>\n",
       "      <td>0</td>\n",
       "      <td>nonexistent</td>\n",
       "      <td>1.1</td>\n",
       "      <td>93.994</td>\n",
       "      <td>-36.4</td>\n",
       "      <td>4.857</td>\n",
       "      <td>5191.0</td>\n",
       "      <td>no</td>\n",
       "    </tr>\n",
       "  </tbody>\n",
       "</table>\n",
       "<p>5 rows × 21 columns</p>\n",
       "</div>"
      ],
      "text/plain": [
       "   age        job  marital    education  default housing loan    contact  \\\n",
       "0   56  housemaid  married     basic.4y       no      no   no  telephone   \n",
       "1   57   services  married  high.school  unknown      no   no  telephone   \n",
       "2   37   services  married  high.school       no     yes   no  telephone   \n",
       "3   40     admin.  married     basic.6y       no      no   no  telephone   \n",
       "4   56   services  married  high.school       no      no  yes  telephone   \n",
       "\n",
       "  month day_of_week  ...  campaign  pdays  previous     poutcome emp.var.rate  \\\n",
       "0   may         mon  ...         1    999         0  nonexistent          1.1   \n",
       "1   may         mon  ...         1    999         0  nonexistent          1.1   \n",
       "2   may         mon  ...         1    999         0  nonexistent          1.1   \n",
       "3   may         mon  ...         1    999         0  nonexistent          1.1   \n",
       "4   may         mon  ...         1    999         0  nonexistent          1.1   \n",
       "\n",
       "   cons.price.idx  cons.conf.idx  euribor3m  nr.employed   y  \n",
       "0          93.994          -36.4      4.857       5191.0  no  \n",
       "1          93.994          -36.4      4.857       5191.0  no  \n",
       "2          93.994          -36.4      4.857       5191.0  no  \n",
       "3          93.994          -36.4      4.857       5191.0  no  \n",
       "4          93.994          -36.4      4.857       5191.0  no  \n",
       "\n",
       "[5 rows x 21 columns]"
      ]
     },
     "metadata": {},
     "execution_count": 3
    }
   ],
   "metadata": {}
  },
  {
   "cell_type": "code",
   "execution_count": 4,
   "source": [
    "df_bank.tail()"
   ],
   "outputs": [
    {
     "output_type": "execute_result",
     "data": {
      "text/html": [
       "<div>\n",
       "<style scoped>\n",
       "    .dataframe tbody tr th:only-of-type {\n",
       "        vertical-align: middle;\n",
       "    }\n",
       "\n",
       "    .dataframe tbody tr th {\n",
       "        vertical-align: top;\n",
       "    }\n",
       "\n",
       "    .dataframe thead th {\n",
       "        text-align: right;\n",
       "    }\n",
       "</style>\n",
       "<table border=\"1\" class=\"dataframe\">\n",
       "  <thead>\n",
       "    <tr style=\"text-align: right;\">\n",
       "      <th></th>\n",
       "      <th>age</th>\n",
       "      <th>job</th>\n",
       "      <th>marital</th>\n",
       "      <th>education</th>\n",
       "      <th>default</th>\n",
       "      <th>housing</th>\n",
       "      <th>loan</th>\n",
       "      <th>contact</th>\n",
       "      <th>month</th>\n",
       "      <th>day_of_week</th>\n",
       "      <th>...</th>\n",
       "      <th>campaign</th>\n",
       "      <th>pdays</th>\n",
       "      <th>previous</th>\n",
       "      <th>poutcome</th>\n",
       "      <th>emp.var.rate</th>\n",
       "      <th>cons.price.idx</th>\n",
       "      <th>cons.conf.idx</th>\n",
       "      <th>euribor3m</th>\n",
       "      <th>nr.employed</th>\n",
       "      <th>y</th>\n",
       "    </tr>\n",
       "  </thead>\n",
       "  <tbody>\n",
       "    <tr>\n",
       "      <th>41183</th>\n",
       "      <td>73</td>\n",
       "      <td>retired</td>\n",
       "      <td>married</td>\n",
       "      <td>professional.course</td>\n",
       "      <td>no</td>\n",
       "      <td>yes</td>\n",
       "      <td>no</td>\n",
       "      <td>cellular</td>\n",
       "      <td>nov</td>\n",
       "      <td>fri</td>\n",
       "      <td>...</td>\n",
       "      <td>1</td>\n",
       "      <td>999</td>\n",
       "      <td>0</td>\n",
       "      <td>nonexistent</td>\n",
       "      <td>-1.1</td>\n",
       "      <td>94.767</td>\n",
       "      <td>-50.8</td>\n",
       "      <td>1.028</td>\n",
       "      <td>4963.6</td>\n",
       "      <td>yes</td>\n",
       "    </tr>\n",
       "    <tr>\n",
       "      <th>41184</th>\n",
       "      <td>46</td>\n",
       "      <td>blue-collar</td>\n",
       "      <td>married</td>\n",
       "      <td>professional.course</td>\n",
       "      <td>no</td>\n",
       "      <td>no</td>\n",
       "      <td>no</td>\n",
       "      <td>cellular</td>\n",
       "      <td>nov</td>\n",
       "      <td>fri</td>\n",
       "      <td>...</td>\n",
       "      <td>1</td>\n",
       "      <td>999</td>\n",
       "      <td>0</td>\n",
       "      <td>nonexistent</td>\n",
       "      <td>-1.1</td>\n",
       "      <td>94.767</td>\n",
       "      <td>-50.8</td>\n",
       "      <td>1.028</td>\n",
       "      <td>4963.6</td>\n",
       "      <td>no</td>\n",
       "    </tr>\n",
       "    <tr>\n",
       "      <th>41185</th>\n",
       "      <td>56</td>\n",
       "      <td>retired</td>\n",
       "      <td>married</td>\n",
       "      <td>university.degree</td>\n",
       "      <td>no</td>\n",
       "      <td>yes</td>\n",
       "      <td>no</td>\n",
       "      <td>cellular</td>\n",
       "      <td>nov</td>\n",
       "      <td>fri</td>\n",
       "      <td>...</td>\n",
       "      <td>2</td>\n",
       "      <td>999</td>\n",
       "      <td>0</td>\n",
       "      <td>nonexistent</td>\n",
       "      <td>-1.1</td>\n",
       "      <td>94.767</td>\n",
       "      <td>-50.8</td>\n",
       "      <td>1.028</td>\n",
       "      <td>4963.6</td>\n",
       "      <td>no</td>\n",
       "    </tr>\n",
       "    <tr>\n",
       "      <th>41186</th>\n",
       "      <td>44</td>\n",
       "      <td>technician</td>\n",
       "      <td>married</td>\n",
       "      <td>professional.course</td>\n",
       "      <td>no</td>\n",
       "      <td>no</td>\n",
       "      <td>no</td>\n",
       "      <td>cellular</td>\n",
       "      <td>nov</td>\n",
       "      <td>fri</td>\n",
       "      <td>...</td>\n",
       "      <td>1</td>\n",
       "      <td>999</td>\n",
       "      <td>0</td>\n",
       "      <td>nonexistent</td>\n",
       "      <td>-1.1</td>\n",
       "      <td>94.767</td>\n",
       "      <td>-50.8</td>\n",
       "      <td>1.028</td>\n",
       "      <td>4963.6</td>\n",
       "      <td>yes</td>\n",
       "    </tr>\n",
       "    <tr>\n",
       "      <th>41187</th>\n",
       "      <td>74</td>\n",
       "      <td>retired</td>\n",
       "      <td>married</td>\n",
       "      <td>professional.course</td>\n",
       "      <td>no</td>\n",
       "      <td>yes</td>\n",
       "      <td>no</td>\n",
       "      <td>cellular</td>\n",
       "      <td>nov</td>\n",
       "      <td>fri</td>\n",
       "      <td>...</td>\n",
       "      <td>3</td>\n",
       "      <td>999</td>\n",
       "      <td>1</td>\n",
       "      <td>failure</td>\n",
       "      <td>-1.1</td>\n",
       "      <td>94.767</td>\n",
       "      <td>-50.8</td>\n",
       "      <td>1.028</td>\n",
       "      <td>4963.6</td>\n",
       "      <td>no</td>\n",
       "    </tr>\n",
       "  </tbody>\n",
       "</table>\n",
       "<p>5 rows × 21 columns</p>\n",
       "</div>"
      ],
      "text/plain": [
       "       age          job  marital            education default housing loan  \\\n",
       "41183   73      retired  married  professional.course      no     yes   no   \n",
       "41184   46  blue-collar  married  professional.course      no      no   no   \n",
       "41185   56      retired  married    university.degree      no     yes   no   \n",
       "41186   44   technician  married  professional.course      no      no   no   \n",
       "41187   74      retired  married  professional.course      no     yes   no   \n",
       "\n",
       "        contact month day_of_week  ...  campaign  pdays  previous  \\\n",
       "41183  cellular   nov         fri  ...         1    999         0   \n",
       "41184  cellular   nov         fri  ...         1    999         0   \n",
       "41185  cellular   nov         fri  ...         2    999         0   \n",
       "41186  cellular   nov         fri  ...         1    999         0   \n",
       "41187  cellular   nov         fri  ...         3    999         1   \n",
       "\n",
       "          poutcome emp.var.rate  cons.price.idx  cons.conf.idx  euribor3m  \\\n",
       "41183  nonexistent         -1.1          94.767          -50.8      1.028   \n",
       "41184  nonexistent         -1.1          94.767          -50.8      1.028   \n",
       "41185  nonexistent         -1.1          94.767          -50.8      1.028   \n",
       "41186  nonexistent         -1.1          94.767          -50.8      1.028   \n",
       "41187      failure         -1.1          94.767          -50.8      1.028   \n",
       "\n",
       "       nr.employed    y  \n",
       "41183       4963.6  yes  \n",
       "41184       4963.6   no  \n",
       "41185       4963.6   no  \n",
       "41186       4963.6  yes  \n",
       "41187       4963.6   no  \n",
       "\n",
       "[5 rows x 21 columns]"
      ]
     },
     "metadata": {},
     "execution_count": 4
    }
   ],
   "metadata": {}
  },
  {
   "cell_type": "code",
   "execution_count": 5,
   "source": [
    "df_bank.shape"
   ],
   "outputs": [
    {
     "output_type": "execute_result",
     "data": {
      "text/plain": [
       "(41188, 21)"
      ]
     },
     "metadata": {},
     "execution_count": 5
    }
   ],
   "metadata": {}
  },
  {
   "cell_type": "markdown",
   "source": [
    "Mari kita lihat info dataframe kita."
   ],
   "metadata": {}
  },
  {
   "cell_type": "code",
   "execution_count": 6,
   "source": [
    "df_bank.info()"
   ],
   "outputs": [
    {
     "output_type": "stream",
     "name": "stdout",
     "text": [
      "<class 'pandas.core.frame.DataFrame'>\n",
      "RangeIndex: 41188 entries, 0 to 41187\n",
      "Data columns (total 21 columns):\n",
      " #   Column          Non-Null Count  Dtype  \n",
      "---  ------          --------------  -----  \n",
      " 0   age             41188 non-null  int64  \n",
      " 1   job             41188 non-null  object \n",
      " 2   marital         41188 non-null  object \n",
      " 3   education       41188 non-null  object \n",
      " 4   default         41188 non-null  object \n",
      " 5   housing         41188 non-null  object \n",
      " 6   loan            41188 non-null  object \n",
      " 7   contact         41188 non-null  object \n",
      " 8   month           41188 non-null  object \n",
      " 9   day_of_week     41188 non-null  object \n",
      " 10  duration        41188 non-null  int64  \n",
      " 11  campaign        41188 non-null  int64  \n",
      " 12  pdays           41188 non-null  int64  \n",
      " 13  previous        41188 non-null  int64  \n",
      " 14  poutcome        41188 non-null  object \n",
      " 15  emp.var.rate    41188 non-null  float64\n",
      " 16  cons.price.idx  41188 non-null  float64\n",
      " 17  cons.conf.idx   41188 non-null  float64\n",
      " 18  euribor3m       41188 non-null  float64\n",
      " 19  nr.employed     41188 non-null  float64\n",
      " 20  y               41188 non-null  object \n",
      "dtypes: float64(5), int64(5), object(11)\n",
      "memory usage: 6.6+ MB\n"
     ]
    }
   ],
   "metadata": {}
  },
  {
   "cell_type": "markdown",
   "source": [
    "## Data Cleanup"
   ],
   "metadata": {}
  },
  {
   "cell_type": "markdown",
   "source": [
    "Kita hapus kolom yang tidak dipakai."
   ],
   "metadata": {}
  },
  {
   "cell_type": "code",
   "execution_count": 3,
   "source": [
    "clean_df = df_bank.drop(['campaign', 'pdays', 'previous', 'poutcome', 'emp.var.rate', 'cons.price.idx', 'cons.conf.idx', 'euribor3m', 'nr.employed'], axis=1)"
   ],
   "outputs": [],
   "metadata": {}
  },
  {
   "cell_type": "code",
   "execution_count": 4,
   "source": [
    "clean_df.columns"
   ],
   "outputs": [
    {
     "output_type": "execute_result",
     "data": {
      "text/plain": [
       "Index(['age', 'job', 'marital', 'education', 'default', 'housing', 'loan',\n",
       "       'contact', 'month', 'day_of_week', 'duration', 'y'],\n",
       "      dtype='object')"
      ]
     },
     "metadata": {},
     "execution_count": 4
    }
   ],
   "metadata": {}
  },
  {
   "cell_type": "code",
   "execution_count": 10,
   "source": [
    "clean_df.info()"
   ],
   "outputs": [
    {
     "output_type": "stream",
     "name": "stdout",
     "text": [
      "<class 'pandas.core.frame.DataFrame'>\n",
      "RangeIndex: 41188 entries, 0 to 41187\n",
      "Data columns (total 12 columns):\n",
      " #   Column       Non-Null Count  Dtype \n",
      "---  ------       --------------  ----- \n",
      " 0   age          41188 non-null  int64 \n",
      " 1   job          41188 non-null  object\n",
      " 2   marital      41188 non-null  object\n",
      " 3   education    41188 non-null  object\n",
      " 4   default      41188 non-null  object\n",
      " 5   housing      41188 non-null  object\n",
      " 6   loan         41188 non-null  object\n",
      " 7   contact      41188 non-null  object\n",
      " 8   month        41188 non-null  object\n",
      " 9   day_of_week  41188 non-null  object\n",
      " 10  duration     41188 non-null  int64 \n",
      " 11  y            41188 non-null  object\n",
      "dtypes: int64(2), object(10)\n",
      "memory usage: 3.8+ MB\n"
     ]
    }
   ],
   "metadata": {}
  },
  {
   "cell_type": "markdown",
   "source": [
    "Kita cek apakah ada data yang null atau tidak."
   ],
   "metadata": {}
  },
  {
   "cell_type": "code",
   "execution_count": 6,
   "source": [
    "clean_df.isnull().sum()"
   ],
   "outputs": [
    {
     "output_type": "execute_result",
     "data": {
      "text/plain": [
       "age            0\n",
       "job            0\n",
       "marital        0\n",
       "education      0\n",
       "default        0\n",
       "housing        0\n",
       "loan           0\n",
       "contact        0\n",
       "month          0\n",
       "day_of_week    0\n",
       "duration       0\n",
       "y              0\n",
       "dtype: int64"
      ]
     },
     "metadata": {},
     "execution_count": 6
    }
   ],
   "metadata": {}
  },
  {
   "cell_type": "code",
   "execution_count": 7,
   "source": [
    "clean_df.head()"
   ],
   "outputs": [
    {
     "output_type": "execute_result",
     "data": {
      "text/html": [
       "<div>\n",
       "<style scoped>\n",
       "    .dataframe tbody tr th:only-of-type {\n",
       "        vertical-align: middle;\n",
       "    }\n",
       "\n",
       "    .dataframe tbody tr th {\n",
       "        vertical-align: top;\n",
       "    }\n",
       "\n",
       "    .dataframe thead th {\n",
       "        text-align: right;\n",
       "    }\n",
       "</style>\n",
       "<table border=\"1\" class=\"dataframe\">\n",
       "  <thead>\n",
       "    <tr style=\"text-align: right;\">\n",
       "      <th></th>\n",
       "      <th>age</th>\n",
       "      <th>job</th>\n",
       "      <th>marital</th>\n",
       "      <th>education</th>\n",
       "      <th>default</th>\n",
       "      <th>housing</th>\n",
       "      <th>loan</th>\n",
       "      <th>contact</th>\n",
       "      <th>month</th>\n",
       "      <th>day_of_week</th>\n",
       "      <th>duration</th>\n",
       "      <th>y</th>\n",
       "    </tr>\n",
       "  </thead>\n",
       "  <tbody>\n",
       "    <tr>\n",
       "      <th>0</th>\n",
       "      <td>56</td>\n",
       "      <td>housemaid</td>\n",
       "      <td>married</td>\n",
       "      <td>basic.4y</td>\n",
       "      <td>no</td>\n",
       "      <td>no</td>\n",
       "      <td>no</td>\n",
       "      <td>telephone</td>\n",
       "      <td>may</td>\n",
       "      <td>mon</td>\n",
       "      <td>261</td>\n",
       "      <td>no</td>\n",
       "    </tr>\n",
       "    <tr>\n",
       "      <th>1</th>\n",
       "      <td>57</td>\n",
       "      <td>services</td>\n",
       "      <td>married</td>\n",
       "      <td>high.school</td>\n",
       "      <td>unknown</td>\n",
       "      <td>no</td>\n",
       "      <td>no</td>\n",
       "      <td>telephone</td>\n",
       "      <td>may</td>\n",
       "      <td>mon</td>\n",
       "      <td>149</td>\n",
       "      <td>no</td>\n",
       "    </tr>\n",
       "    <tr>\n",
       "      <th>2</th>\n",
       "      <td>37</td>\n",
       "      <td>services</td>\n",
       "      <td>married</td>\n",
       "      <td>high.school</td>\n",
       "      <td>no</td>\n",
       "      <td>yes</td>\n",
       "      <td>no</td>\n",
       "      <td>telephone</td>\n",
       "      <td>may</td>\n",
       "      <td>mon</td>\n",
       "      <td>226</td>\n",
       "      <td>no</td>\n",
       "    </tr>\n",
       "    <tr>\n",
       "      <th>3</th>\n",
       "      <td>40</td>\n",
       "      <td>admin.</td>\n",
       "      <td>married</td>\n",
       "      <td>basic.6y</td>\n",
       "      <td>no</td>\n",
       "      <td>no</td>\n",
       "      <td>no</td>\n",
       "      <td>telephone</td>\n",
       "      <td>may</td>\n",
       "      <td>mon</td>\n",
       "      <td>151</td>\n",
       "      <td>no</td>\n",
       "    </tr>\n",
       "    <tr>\n",
       "      <th>4</th>\n",
       "      <td>56</td>\n",
       "      <td>services</td>\n",
       "      <td>married</td>\n",
       "      <td>high.school</td>\n",
       "      <td>no</td>\n",
       "      <td>no</td>\n",
       "      <td>yes</td>\n",
       "      <td>telephone</td>\n",
       "      <td>may</td>\n",
       "      <td>mon</td>\n",
       "      <td>307</td>\n",
       "      <td>no</td>\n",
       "    </tr>\n",
       "  </tbody>\n",
       "</table>\n",
       "</div>"
      ],
      "text/plain": [
       "   age        job  marital    education  default housing loan    contact  \\\n",
       "0   56  housemaid  married     basic.4y       no      no   no  telephone   \n",
       "1   57   services  married  high.school  unknown      no   no  telephone   \n",
       "2   37   services  married  high.school       no     yes   no  telephone   \n",
       "3   40     admin.  married     basic.6y       no      no   no  telephone   \n",
       "4   56   services  married  high.school       no      no  yes  telephone   \n",
       "\n",
       "  month day_of_week  duration   y  \n",
       "0   may         mon       261  no  \n",
       "1   may         mon       149  no  \n",
       "2   may         mon       226  no  \n",
       "3   may         mon       151  no  \n",
       "4   may         mon       307  no  "
      ]
     },
     "metadata": {},
     "execution_count": 7
    }
   ],
   "metadata": {}
  },
  {
   "cell_type": "markdown",
   "source": [
    "### Encoding"
   ],
   "metadata": {}
  },
  {
   "cell_type": "markdown",
   "source": [
    "Sekarang kita perlu mengubang string menjadi angka."
   ],
   "metadata": {}
  },
  {
   "cell_type": "code",
   "execution_count": 6,
   "source": [
    "# le = preprocessing.LabelEncoder()"
   ],
   "outputs": [],
   "metadata": {}
  },
  {
   "cell_type": "code",
   "execution_count": 7,
   "source": [
    "# clean_df.job = le.fit_transform(clean_df.job)\r\n",
    "# clean_df.marital = le.fit_transform(clean_df.marital)\r\n",
    "# clean_df.education = le.fit_transform(clean_df.education)\r\n",
    "# clean_df.default = le.fit_transform(clean_df.default)\r\n",
    "# clean_df.housing = le.fit_transform(clean_df.housing)\r\n",
    "# clean_df.loan = le.fit_transform(clean_df.loan)\r\n",
    "# clean_df.contact = le.fit_transform(clean_df.contact)\r\n",
    "# clean_df.month = le.fit_transform(clean_df.month)\r\n",
    "# clean_df.day_of_week = le.fit_transform(clean_df.day_of_week)\r\n",
    "# clean_df.y = le.fit_transform(clean_df.y)\r\n"
   ],
   "outputs": [],
   "metadata": {}
  },
  {
   "cell_type": "code",
   "execution_count": 8,
   "source": [
    "clean_df.job.replace({'unknown': 0, 'admin.': 1,'blue-collar': 2,'entrepreneur': 3,'housemaid': 4,'management': 5,'retired': 6,'self-employed': 7,'services': 8,'student': 9,'technician': 10,'unemployed': 11}, inplace=True)\r\n",
    "clean_df.marital.replace({'unknown': 0, 'divorced': 1,'married': 2,'single': 3}, inplace=True)\r\n",
    "clean_df.education.replace({'unknown': 0, 'basic.4y': 1,'basic.6y': 2,'basic.9y': 3,'high.school': 4,'illiterate': 5,'professional.course': 6,'university.degree': 7}, inplace=True)\r\n",
    "clean_df.default.replace({'unknown': 0, 'no': 0, 'yes': 1}, inplace=True)\r\n",
    "clean_df.housing.replace({'unknown': 0, 'no': 0, 'yes': 1}, inplace=True)\r\n",
    "clean_df.loan.replace({'unknown': 0, 'no': 0, 'yes': 1}, inplace=True)\r\n",
    "clean_df.contact.replace({'cellular': 1,'telephone': 2}, inplace=True)\r\n",
    "clean_df.month.replace({'jan': 1, 'feb': 2, 'mar': 3, 'apr': 4, 'may': 5, 'jun': 6, 'jul': 7, 'aug': 8, 'sep': 9, 'oct': 10, 'nov': 11, 'dec': 12}, inplace=True)\r\n",
    "clean_df.day_of_week.replace({'mon': 1, 'tue': 2, 'wed': 3, 'thu': 4, 'fri': 5}, inplace=True)\r\n",
    "clean_df.y.replace({'no': 0, 'yes': 1}, inplace=True)"
   ],
   "outputs": [],
   "metadata": {}
  },
  {
   "cell_type": "code",
   "execution_count": 9,
   "source": [
    "clean_df.info()"
   ],
   "outputs": [
    {
     "output_type": "stream",
     "name": "stdout",
     "text": [
      "<class 'pandas.core.frame.DataFrame'>\n",
      "RangeIndex: 41188 entries, 0 to 41187\n",
      "Data columns (total 12 columns):\n",
      " #   Column       Non-Null Count  Dtype\n",
      "---  ------       --------------  -----\n",
      " 0   age          41188 non-null  int64\n",
      " 1   job          41188 non-null  int64\n",
      " 2   marital      41188 non-null  int64\n",
      " 3   education    41188 non-null  int64\n",
      " 4   default      41188 non-null  int64\n",
      " 5   housing      41188 non-null  int64\n",
      " 6   loan         41188 non-null  int64\n",
      " 7   contact      41188 non-null  int64\n",
      " 8   month        41188 non-null  int64\n",
      " 9   day_of_week  41188 non-null  int64\n",
      " 10  duration     41188 non-null  int64\n",
      " 11  y            41188 non-null  int64\n",
      "dtypes: int64(12)\n",
      "memory usage: 3.8 MB\n"
     ]
    }
   ],
   "metadata": {}
  },
  {
   "cell_type": "code",
   "execution_count": 10,
   "source": [
    "clean_df.head()"
   ],
   "outputs": [
    {
     "output_type": "execute_result",
     "data": {
      "text/html": [
       "<div>\n",
       "<style scoped>\n",
       "    .dataframe tbody tr th:only-of-type {\n",
       "        vertical-align: middle;\n",
       "    }\n",
       "\n",
       "    .dataframe tbody tr th {\n",
       "        vertical-align: top;\n",
       "    }\n",
       "\n",
       "    .dataframe thead th {\n",
       "        text-align: right;\n",
       "    }\n",
       "</style>\n",
       "<table border=\"1\" class=\"dataframe\">\n",
       "  <thead>\n",
       "    <tr style=\"text-align: right;\">\n",
       "      <th></th>\n",
       "      <th>age</th>\n",
       "      <th>job</th>\n",
       "      <th>marital</th>\n",
       "      <th>education</th>\n",
       "      <th>default</th>\n",
       "      <th>housing</th>\n",
       "      <th>loan</th>\n",
       "      <th>contact</th>\n",
       "      <th>month</th>\n",
       "      <th>day_of_week</th>\n",
       "      <th>duration</th>\n",
       "      <th>y</th>\n",
       "    </tr>\n",
       "  </thead>\n",
       "  <tbody>\n",
       "    <tr>\n",
       "      <th>0</th>\n",
       "      <td>56</td>\n",
       "      <td>4</td>\n",
       "      <td>2</td>\n",
       "      <td>1</td>\n",
       "      <td>0</td>\n",
       "      <td>0</td>\n",
       "      <td>0</td>\n",
       "      <td>2</td>\n",
       "      <td>5</td>\n",
       "      <td>1</td>\n",
       "      <td>261</td>\n",
       "      <td>0</td>\n",
       "    </tr>\n",
       "    <tr>\n",
       "      <th>1</th>\n",
       "      <td>57</td>\n",
       "      <td>8</td>\n",
       "      <td>2</td>\n",
       "      <td>4</td>\n",
       "      <td>0</td>\n",
       "      <td>0</td>\n",
       "      <td>0</td>\n",
       "      <td>2</td>\n",
       "      <td>5</td>\n",
       "      <td>1</td>\n",
       "      <td>149</td>\n",
       "      <td>0</td>\n",
       "    </tr>\n",
       "    <tr>\n",
       "      <th>2</th>\n",
       "      <td>37</td>\n",
       "      <td>8</td>\n",
       "      <td>2</td>\n",
       "      <td>4</td>\n",
       "      <td>0</td>\n",
       "      <td>1</td>\n",
       "      <td>0</td>\n",
       "      <td>2</td>\n",
       "      <td>5</td>\n",
       "      <td>1</td>\n",
       "      <td>226</td>\n",
       "      <td>0</td>\n",
       "    </tr>\n",
       "    <tr>\n",
       "      <th>3</th>\n",
       "      <td>40</td>\n",
       "      <td>1</td>\n",
       "      <td>2</td>\n",
       "      <td>2</td>\n",
       "      <td>0</td>\n",
       "      <td>0</td>\n",
       "      <td>0</td>\n",
       "      <td>2</td>\n",
       "      <td>5</td>\n",
       "      <td>1</td>\n",
       "      <td>151</td>\n",
       "      <td>0</td>\n",
       "    </tr>\n",
       "    <tr>\n",
       "      <th>4</th>\n",
       "      <td>56</td>\n",
       "      <td>8</td>\n",
       "      <td>2</td>\n",
       "      <td>4</td>\n",
       "      <td>0</td>\n",
       "      <td>0</td>\n",
       "      <td>1</td>\n",
       "      <td>2</td>\n",
       "      <td>5</td>\n",
       "      <td>1</td>\n",
       "      <td>307</td>\n",
       "      <td>0</td>\n",
       "    </tr>\n",
       "  </tbody>\n",
       "</table>\n",
       "</div>"
      ],
      "text/plain": [
       "   age  job  marital  education  default  housing  loan  contact  month  \\\n",
       "0   56    4        2          1        0        0     0        2      5   \n",
       "1   57    8        2          4        0        0     0        2      5   \n",
       "2   37    8        2          4        0        1     0        2      5   \n",
       "3   40    1        2          2        0        0     0        2      5   \n",
       "4   56    8        2          4        0        0     1        2      5   \n",
       "\n",
       "   day_of_week  duration  y  \n",
       "0            1       261  0  \n",
       "1            1       149  0  \n",
       "2            1       226  0  \n",
       "3            1       151  0  \n",
       "4            1       307  0  "
      ]
     },
     "metadata": {},
     "execution_count": 10
    }
   ],
   "metadata": {}
  },
  {
   "cell_type": "markdown",
   "source": [
    "## Training Model"
   ],
   "metadata": {}
  },
  {
   "cell_type": "code",
   "execution_count": 93,
   "source": [
    "# x = np.array(clean_df[['age', 'job', 'marital', 'education', 'default', 'housing', 'loan', 'contact', 'month', 'day_of_week', 'duration']])"
   ],
   "outputs": [],
   "metadata": {}
  },
  {
   "cell_type": "code",
   "execution_count": 9,
   "source": [
    "# x"
   ],
   "outputs": [
    {
     "output_type": "execute_result",
     "data": {
      "text/plain": [
       "array([[ 56,   3,   1, ...,   6,   1, 261],\n",
       "       [ 57,   7,   1, ...,   6,   1, 149],\n",
       "       [ 37,   7,   1, ...,   6,   1, 226],\n",
       "       ...,\n",
       "       [ 56,   5,   1, ...,   7,   0, 189],\n",
       "       [ 44,   9,   1, ...,   7,   0, 442],\n",
       "       [ 74,   5,   1, ...,   7,   0, 239]], dtype=int64)"
      ]
     },
     "metadata": {},
     "execution_count": 9
    }
   ],
   "metadata": {}
  },
  {
   "cell_type": "code",
   "execution_count": 94,
   "source": [
    "# y = np.array(clean_df['y'])"
   ],
   "outputs": [],
   "metadata": {}
  },
  {
   "cell_type": "code",
   "execution_count": 20,
   "source": [
    "# y"
   ],
   "outputs": [
    {
     "output_type": "execute_result",
     "data": {
      "text/plain": [
       "array([0, 0, 0, ..., 0, 1, 0])"
      ]
     },
     "metadata": {},
     "execution_count": 20
    }
   ],
   "metadata": {}
  },
  {
   "cell_type": "markdown",
   "source": [
    "Mari menentukan feature (x) dan target (y)."
   ],
   "metadata": {}
  },
  {
   "cell_type": "code",
   "execution_count": 13,
   "source": [
    "x = clean_df[['age', 'job', 'marital', 'education', 'default', 'housing', 'loan', 'contact', 'month', 'day_of_week', 'duration']]\r\n",
    "y = clean_df['y']"
   ],
   "outputs": [],
   "metadata": {}
  },
  {
   "cell_type": "code",
   "execution_count": 12,
   "source": [
    "x.head()"
   ],
   "outputs": [
    {
     "output_type": "execute_result",
     "data": {
      "text/html": [
       "<div>\n",
       "<style scoped>\n",
       "    .dataframe tbody tr th:only-of-type {\n",
       "        vertical-align: middle;\n",
       "    }\n",
       "\n",
       "    .dataframe tbody tr th {\n",
       "        vertical-align: top;\n",
       "    }\n",
       "\n",
       "    .dataframe thead th {\n",
       "        text-align: right;\n",
       "    }\n",
       "</style>\n",
       "<table border=\"1\" class=\"dataframe\">\n",
       "  <thead>\n",
       "    <tr style=\"text-align: right;\">\n",
       "      <th></th>\n",
       "      <th>age</th>\n",
       "      <th>job</th>\n",
       "      <th>marital</th>\n",
       "      <th>education</th>\n",
       "      <th>default</th>\n",
       "      <th>housing</th>\n",
       "      <th>loan</th>\n",
       "      <th>contact</th>\n",
       "      <th>month</th>\n",
       "      <th>day_of_week</th>\n",
       "      <th>duration</th>\n",
       "    </tr>\n",
       "  </thead>\n",
       "  <tbody>\n",
       "    <tr>\n",
       "      <th>0</th>\n",
       "      <td>56</td>\n",
       "      <td>4</td>\n",
       "      <td>2</td>\n",
       "      <td>1</td>\n",
       "      <td>0</td>\n",
       "      <td>0</td>\n",
       "      <td>0</td>\n",
       "      <td>2</td>\n",
       "      <td>5</td>\n",
       "      <td>1</td>\n",
       "      <td>261</td>\n",
       "    </tr>\n",
       "    <tr>\n",
       "      <th>1</th>\n",
       "      <td>57</td>\n",
       "      <td>8</td>\n",
       "      <td>2</td>\n",
       "      <td>4</td>\n",
       "      <td>0</td>\n",
       "      <td>0</td>\n",
       "      <td>0</td>\n",
       "      <td>2</td>\n",
       "      <td>5</td>\n",
       "      <td>1</td>\n",
       "      <td>149</td>\n",
       "    </tr>\n",
       "    <tr>\n",
       "      <th>2</th>\n",
       "      <td>37</td>\n",
       "      <td>8</td>\n",
       "      <td>2</td>\n",
       "      <td>4</td>\n",
       "      <td>0</td>\n",
       "      <td>1</td>\n",
       "      <td>0</td>\n",
       "      <td>2</td>\n",
       "      <td>5</td>\n",
       "      <td>1</td>\n",
       "      <td>226</td>\n",
       "    </tr>\n",
       "    <tr>\n",
       "      <th>3</th>\n",
       "      <td>40</td>\n",
       "      <td>1</td>\n",
       "      <td>2</td>\n",
       "      <td>2</td>\n",
       "      <td>0</td>\n",
       "      <td>0</td>\n",
       "      <td>0</td>\n",
       "      <td>2</td>\n",
       "      <td>5</td>\n",
       "      <td>1</td>\n",
       "      <td>151</td>\n",
       "    </tr>\n",
       "    <tr>\n",
       "      <th>4</th>\n",
       "      <td>56</td>\n",
       "      <td>8</td>\n",
       "      <td>2</td>\n",
       "      <td>4</td>\n",
       "      <td>0</td>\n",
       "      <td>0</td>\n",
       "      <td>1</td>\n",
       "      <td>2</td>\n",
       "      <td>5</td>\n",
       "      <td>1</td>\n",
       "      <td>307</td>\n",
       "    </tr>\n",
       "  </tbody>\n",
       "</table>\n",
       "</div>"
      ],
      "text/plain": [
       "   age  job  marital  education  default  housing  loan  contact  month  \\\n",
       "0   56    4        2          1        0        0     0        2      5   \n",
       "1   57    8        2          4        0        0     0        2      5   \n",
       "2   37    8        2          4        0        1     0        2      5   \n",
       "3   40    1        2          2        0        0     0        2      5   \n",
       "4   56    8        2          4        0        0     1        2      5   \n",
       "\n",
       "   day_of_week  duration  \n",
       "0            1       261  \n",
       "1            1       149  \n",
       "2            1       226  \n",
       "3            1       151  \n",
       "4            1       307  "
      ]
     },
     "metadata": {},
     "execution_count": 12
    }
   ],
   "metadata": {}
  },
  {
   "cell_type": "code",
   "execution_count": 14,
   "source": [
    "y.head()"
   ],
   "outputs": [
    {
     "output_type": "execute_result",
     "data": {
      "text/plain": [
       "0    0\n",
       "1    0\n",
       "2    0\n",
       "3    0\n",
       "4    0\n",
       "Name: y, dtype: int64"
      ]
     },
     "metadata": {},
     "execution_count": 14
    }
   ],
   "metadata": {}
  },
  {
   "cell_type": "markdown",
   "source": [
    "### Split Data"
   ],
   "metadata": {}
  },
  {
   "cell_type": "markdown",
   "source": [
    "Selanjutnya kita split dataset menjadi training set dan test set."
   ],
   "metadata": {}
  },
  {
   "cell_type": "code",
   "execution_count": 15,
   "source": [
    "x_train, x_test, y_train, y_test = train_test_split(x, y, test_size=0.2)"
   ],
   "outputs": [],
   "metadata": {}
  },
  {
   "cell_type": "code",
   "execution_count": 16,
   "source": [
    "print(\"Jumlah Original Berlangganan Deposit : \", len(y[y == 1]))\r\n",
    "print(\"Jumlah Original Tidak Berlangganan Deposit : \", len(y[y == 0]))\r\n",
    "\r\n",
    "print(\"Training True : \", len(y_train[y_train == 1]))\r\n",
    "print(\"Training False : \", len(y_train[y_train == 0]))\r\n",
    "\r\n",
    "print(\"Testing True : \", len(y_test[y_test == 1]))\r\n",
    "print(\"Testing False : \", len(y_test[y_test == 0]))"
   ],
   "outputs": [
    {
     "output_type": "stream",
     "name": "stdout",
     "text": [
      "Jumlah Original Berlangganan Deposit :  4640\n",
      "Jumlah Original Tidak Berlangganan Deposit :  36548\n",
      "Training True :  3743\n",
      "Training False :  29207\n",
      "Testing True :  897\n",
      "Testing False :  7341\n"
     ]
    }
   ],
   "metadata": {}
  },
  {
   "cell_type": "markdown",
   "source": [
    "### Create a Model and Train It"
   ],
   "metadata": {}
  },
  {
   "cell_type": "markdown",
   "source": [
    "#### Logistic Regression"
   ],
   "metadata": {}
  },
  {
   "cell_type": "code",
   "execution_count": 60,
   "source": [
    "# create a Logistic Regression\r\n",
    "lr_model = LogisticRegression(solver='liblinear', C=0.05, multi_class='ovr', random_state=0)\r\n",
    "\r\n",
    "# train the model using the training sets\r\n",
    "lr_model.fit(x_train, y_train)\r\n",
    "\r\n",
    "# predict the response for test dataset\r\n",
    "lr_pred = lr_model.predict(x_test)"
   ],
   "outputs": [],
   "metadata": {}
  },
  {
   "cell_type": "code",
   "execution_count": 19,
   "source": [
    "lr_model.score(x_train, y_train)"
   ],
   "outputs": [
    {
     "output_type": "execute_result",
     "data": {
      "text/plain": [
       "0.8941729893778452"
      ]
     },
     "metadata": {},
     "execution_count": 19
    }
   ],
   "metadata": {}
  },
  {
   "cell_type": "code",
   "execution_count": 20,
   "source": [
    "lr_model.score(x_test, y_test)"
   ],
   "outputs": [
    {
     "output_type": "execute_result",
     "data": {
      "text/plain": [
       "0.894634620053411"
      ]
     },
     "metadata": {},
     "execution_count": 20
    }
   ],
   "metadata": {}
  },
  {
   "cell_type": "code",
   "execution_count": 21,
   "source": [
    "print(\"Accuracy: {0:.4f}\".format(metrics.accuracy_score(y_test, lr_pred)))\r\n",
    "print(metrics.confusion_matrix(y_test, lr_pred))\r\n",
    "print(\"\")\r\n",
    "print(\"Classification Report\")\r\n",
    "print(metrics.classification_report(y_test, lr_pred))\r\n",
    "print(metrics.recall_score(y_test, lr_pred))"
   ],
   "outputs": [
    {
     "output_type": "stream",
     "name": "stdout",
     "text": [
      "Accuracy: 0.8946\n",
      "[[7209  132]\n",
      " [ 736  161]]\n",
      "\n",
      "Classification Report\n",
      "              precision    recall  f1-score   support\n",
      "\n",
      "           0       0.91      0.98      0.94      7341\n",
      "           1       0.55      0.18      0.27       897\n",
      "\n",
      "    accuracy                           0.89      8238\n",
      "   macro avg       0.73      0.58      0.61      8238\n",
      "weighted avg       0.87      0.89      0.87      8238\n",
      "\n",
      "0.1794871794871795\n"
     ]
    }
   ],
   "metadata": {}
  },
  {
   "cell_type": "markdown",
   "source": [
    "Mari kita visualisasikan confusion matrixnya."
   ],
   "metadata": {}
  },
  {
   "cell_type": "code",
   "execution_count": 59,
   "source": [
    "cm = metrics.confusion_matrix(y_test, lr_pred)\r\n",
    "\r\n",
    "fig, ax = plt.subplots(figsize=(8, 8))\r\n",
    "ax.imshow(cm)\r\n",
    "ax.grid(False)\r\n",
    "ax.xaxis.set(ticks=(0, 1), ticklabels=('Predicted 0s', 'Predicted 1s'))\r\n",
    "ax.yaxis.set(ticks=(0, 1), ticklabels=('Actual 0s', 'Actual 1s'))\r\n",
    "ax.set_ylim(1.5, -0.5)\r\n",
    "for i in range(2):\r\n",
    "    for j in range(2):\r\n",
    "        ax.text(j, i, cm[i, j], ha='center', va='center', color='red')\r\n",
    "\r\n",
    "plt.show()"
   ],
   "outputs": [
    {
     "output_type": "display_data",
     "data": {
      "image/png": "[encoded data removed]",
      "text/plain": [
       "<Figure size 800x800 with 1 Axes>"
      ]
     },
     "metadata": {}
    }
   ],
   "metadata": {}
  },
  {
   "cell_type": "markdown",
   "source": [
    "Kita dapat melihat bahwa shades of dark purple menunjukkan angka kecil (132, 161), sedangkan shades of yellow menunjukkan angka besar."
   ],
   "metadata": {}
  },
  {
   "cell_type": "markdown",
   "source": [
    "#### K-Nearest Neighbor"
   ],
   "metadata": {}
  },
  {
   "cell_type": "code",
   "execution_count": 40,
   "source": [
    "# create a K-Nearest Neighbor\r\n",
    "knn_model = KNeighborsClassifier()\r\n",
    "\r\n",
    "# train the model using the training sets\r\n",
    "knn.fit(x_train, y_train)\r\n",
    "\r\n",
    "# predict the response for test dataset\r\n",
    "knn_pred = knn.predict(x_test)"
   ],
   "outputs": [
    {
     "output_type": "stream",
     "name": "stderr",
     "text": [
      "D:\\Application\\Anaconda\\lib\\site-packages\\sklearn\\neighbors\\_classification.py:228: FutureWarning: Unlike other reduction functions (e.g. `skew`, `kurtosis`), the default behavior of `mode` typically preserves the axis it acts along. In SciPy 1.11.0, this behavior will change: the default value of `keepdims` will become False, the `axis` over which the statistic is taken will be eliminated, and the value None will no longer be accepted. Set `keepdims` to True or False to avoid this warning.\n",
      "  mode, _ = stats.mode(_y[neigh_ind, k], axis=1)\n"
     ]
    }
   ],
   "metadata": {}
  },
  {
   "cell_type": "code",
   "execution_count": 41,
   "source": [
    "print(\"Accuracy: {0:.4f}\".format(metrics.accuracy_score(y_test, knn_pred)))\r\n",
    "print(metrics.confusion_matrix(y_test, knn_pred))\r\n",
    "print(\"\")\r\n",
    "print(\"Classification Report\")\r\n",
    "print(metrics.classification_report(y_test, knn_pred))"
   ],
   "outputs": [
    {
     "output_type": "stream",
     "name": "stdout",
     "text": [
      "Accuracy: 0.8945\n",
      "[[7183  158]\n",
      " [ 711  186]]\n",
      "\n",
      "Classification Report\n",
      "              precision    recall  f1-score   support\n",
      "\n",
      "           0       0.91      0.98      0.94      7341\n",
      "           1       0.54      0.21      0.30       897\n",
      "\n",
      "    accuracy                           0.89      8238\n",
      "   macro avg       0.73      0.59      0.62      8238\n",
      "weighted avg       0.87      0.89      0.87      8238\n",
      "\n"
     ]
    }
   ],
   "metadata": {}
  },
  {
   "cell_type": "markdown",
   "source": [
    "#### Support Vector Machine"
   ],
   "metadata": {}
  },
  {
   "cell_type": "code",
   "execution_count": 43,
   "source": [
    "# create a Support Vector Machine\r\n",
    "svm_model = svm.SVC()\r\n",
    "\r\n",
    "# train the model using the training sets\r\n",
    "svm_model.fit(x_train, y_train)\r\n",
    "\r\n",
    "# predict the response for test dataset\r\n",
    "svm_pred = svm_model.predict(x_test)"
   ],
   "outputs": [],
   "metadata": {}
  },
  {
   "cell_type": "code",
   "execution_count": 44,
   "source": [
    "print(\"Accuracy: {0:.4f}\".format(metrics.accuracy_score(y_test, svm_pred)))\r\n",
    "print(metrics.confusion_matrix(y_test, svm_pred))\r\n",
    "print(\"\")\r\n",
    "print(\"Classification Report\")\r\n",
    "print(metrics.classification_report(y_test, svm_pred))"
   ],
   "outputs": [
    {
     "output_type": "stream",
     "name": "stdout",
     "text": [
      "Accuracy: 0.8940\n",
      "[[7213  128]\n",
      " [ 745  152]]\n",
      "\n",
      "Classification Report\n",
      "              precision    recall  f1-score   support\n",
      "\n",
      "           0       0.91      0.98      0.94      7341\n",
      "           1       0.54      0.17      0.26       897\n",
      "\n",
      "    accuracy                           0.89      8238\n",
      "   macro avg       0.72      0.58      0.60      8238\n",
      "weighted avg       0.87      0.89      0.87      8238\n",
      "\n"
     ]
    }
   ],
   "metadata": {}
  },
  {
   "cell_type": "markdown",
   "source": [
    "#### Decision Tree"
   ],
   "metadata": {}
  },
  {
   "cell_type": "code",
   "execution_count": 46,
   "source": [
    "# create a Decision Tree\r\n",
    "dt_model = DecisionTreeClassifier()\r\n",
    "\r\n",
    "# train the model using the training sets\r\n",
    "dt_model = dt_model.fit(x_train, y_train)\r\n",
    "\r\n",
    "# predict the response for test dataset\r\n",
    "dt_pred = dt_model.predict(x_test)"
   ],
   "outputs": [],
   "metadata": {}
  },
  {
   "cell_type": "code",
   "execution_count": 47,
   "source": [
    "print(\"Accuracy: {0:.4f}\".format(metrics.accuracy_score(y_test, dt_pred)))\r\n",
    "print(metrics.confusion_matrix(y_test, dt_pred))\r\n",
    "print(\"\")\r\n",
    "print(\"Classification Report\")\r\n",
    "print(metrics.classification_report(y_test, dt_pred))\r\n",
    "print(metrics.recall_score(y_test, dt_pred))"
   ],
   "outputs": [
    {
     "output_type": "stream",
     "name": "stdout",
     "text": [
      "Accuracy: 0.8656\n",
      "[[6736  605]\n",
      " [ 502  395]]\n",
      "\n",
      "Classification Report\n",
      "              precision    recall  f1-score   support\n",
      "\n",
      "           0       0.93      0.92      0.92      7341\n",
      "           1       0.40      0.44      0.42       897\n",
      "\n",
      "    accuracy                           0.87      8238\n",
      "   macro avg       0.66      0.68      0.67      8238\n",
      "weighted avg       0.87      0.87      0.87      8238\n",
      "\n",
      "0.4403567447045708\n"
     ]
    }
   ],
   "metadata": {}
  },
  {
   "cell_type": "markdown",
   "source": [
    "#### Random Forest"
   ],
   "metadata": {}
  },
  {
   "cell_type": "code",
   "execution_count": 49,
   "source": [
    "# create a Random Forest\r\n",
    "rf_model = RandomForestClassifier(random_state=42, n_estimators=100)\r\n",
    "\r\n",
    "# train the model using the training sets\r\n",
    "rf_model.fit(x_train, y_train.ravel())\r\n",
    "\r\n",
    "# predict the response for test dataset\r\n",
    "rf_pred = rf_model.predict(x_test)"
   ],
   "outputs": [],
   "metadata": {}
  },
  {
   "cell_type": "code",
   "execution_count": 50,
   "source": [
    "print(\"Accuracy: {0:.4f}\".format(metrics.accuracy_score(y_test, rf_pred)))\r\n",
    "print(metrics.confusion_matrix(y_test, rf_pred))\r\n",
    "print(\"\")\r\n",
    "print(\"Classification Report\")\r\n",
    "print(metrics.classification_report(y_test, rf_pred))\r\n",
    "print(metrics.recall_score(y_test, rf_pred))"
   ],
   "outputs": [
    {
     "output_type": "stream",
     "name": "stdout",
     "text": [
      "Accuracy: 0.8999\n",
      "[[7112  229]\n",
      " [ 596  301]]\n",
      "\n",
      "Classification Report\n",
      "              precision    recall  f1-score   support\n",
      "\n",
      "           0       0.92      0.97      0.95      7341\n",
      "           1       0.57      0.34      0.42       897\n",
      "\n",
      "    accuracy                           0.90      8238\n",
      "   macro avg       0.75      0.65      0.68      8238\n",
      "weighted avg       0.88      0.90      0.89      8238\n",
      "\n",
      "0.3355629877369008\n"
     ]
    }
   ],
   "metadata": {}
  },
  {
   "cell_type": "code",
   "execution_count": 18,
   "source": [
    "clean_df.columns"
   ],
   "outputs": [
    {
     "output_type": "execute_result",
     "data": {
      "text/plain": [
       "Index(['age', 'job', 'marital', 'education', 'default', 'housing', 'loan',\n",
       "       'contact', 'month', 'day_of_week', 'duration', 'y'],\n",
       "      dtype='object')"
      ]
     },
     "metadata": {},
     "execution_count": 18
    }
   ],
   "metadata": {}
  },
  {
   "cell_type": "code",
   "execution_count": 51,
   "source": [
    "# index = clean_df.drop(['y'], axis=1)"
   ],
   "outputs": [],
   "metadata": {}
  },
  {
   "cell_type": "code",
   "execution_count": 68,
   "source": [
    "# feature_imp = pd.Series(rf_model.feature_importances_, index=index.columns).sort_values(ascending=False)\r\n",
    "# feature_imp"
   ],
   "outputs": [
    {
     "output_type": "execute_result",
     "data": {
      "text/plain": [
       "duration       0.382560\n",
       "age            0.177064\n",
       "month          0.132693\n",
       "job            0.068180\n",
       "education      0.062381\n",
       "day_of_week    0.060697\n",
       "marital        0.031743\n",
       "housing        0.030525\n",
       "contact        0.022710\n",
       "loan           0.020311\n",
       "default        0.011137\n",
       "dtype: float64"
      ]
     },
     "metadata": {},
     "execution_count": 68
    }
   ],
   "metadata": {}
  },
  {
   "cell_type": "markdown",
   "source": [
    "#### Naive Bayes"
   ],
   "metadata": {}
  },
  {
   "cell_type": "code",
   "execution_count": 53,
   "source": [
    "# create a Naive Bayes\r\n",
    "gnb = GaussianNB()\r\n",
    "\r\n",
    "# train the model using the training sets\r\n",
    "gnb.fit(x_train, y_train)\r\n",
    "\r\n",
    "# predict the response for test dataset\r\n",
    "gnb_pred = gnb.predict(x_test)"
   ],
   "outputs": [],
   "metadata": {}
  },
  {
   "cell_type": "code",
   "execution_count": 54,
   "source": [
    "print(\"Accuracy: {0:.4f}\".format(metrics.accuracy_score(y_test, gnb_pred)))\r\n",
    "print(metrics.confusion_matrix(y_test, gnb_pred))\r\n",
    "print(\"\")\r\n",
    "print(\"Classification Report\")\r\n",
    "print(metrics.classification_report(y_test, gnb_pred))\r\n",
    "print(metrics.recall_score(y_test, gnb_pred))"
   ],
   "outputs": [
    {
     "output_type": "stream",
     "name": "stdout",
     "text": [
      "Accuracy: 0.8906\n",
      "[[7025  316]\n",
      " [ 585  312]]\n",
      "\n",
      "Classification Report\n",
      "              precision    recall  f1-score   support\n",
      "\n",
      "           0       0.92      0.96      0.94      7341\n",
      "           1       0.50      0.35      0.41       897\n",
      "\n",
      "    accuracy                           0.89      8238\n",
      "   macro avg       0.71      0.65      0.67      8238\n",
      "weighted avg       0.88      0.89      0.88      8238\n",
      "\n",
      "0.34782608695652173\n"
     ]
    }
   ],
   "metadata": {}
  },
  {
   "cell_type": "markdown",
   "source": [
    "### Accuracy Score"
   ],
   "metadata": {}
  },
  {
   "cell_type": "code",
   "execution_count": 56,
   "source": [
    "print(\"Logistic Regression: \", metrics.accuracy_score(y_test, lr_pred))\r\n",
    "print(\"K-Nearest Neighbors: \", metrics.accuracy_score(y_test, knn_pred))\r\n",
    "print(\"Support Vector Machine: \", metrics.accuracy_score(y_test, svm_pred))\r\n",
    "print(\"Decision Tree: \", metrics.accuracy_score(y_test, dt_pred))\r\n",
    "print(\"Random Forest: \", metrics.accuracy_score(y_test, rf_pred))\r\n",
    "print(\"Naive Bayes: \", metrics.accuracy_score(y_test, gnb_pred))"
   ],
   "outputs": [
    {
     "output_type": "stream",
     "name": "stdout",
     "text": [
      "Logistic Regression:  0.894634620053411\n",
      "K-Nearest Neighbors:  0.8945132313668366\n",
      "Support Vector Machine:  0.894027676620539\n",
      "Decision Tree:  0.8656227239621267\n",
      "Random Forest:  0.8998543335761107\n",
      "Naive Bayes:  0.8906287933964554\n"
     ]
    }
   ],
   "metadata": {}
  },
  {
   "cell_type": "markdown",
   "source": [
    "## Peningkatan Peforma"
   ],
   "metadata": {}
  },
  {
   "cell_type": "code",
   "execution_count": 61,
   "source": [
    "print(\"Accuracy: {0:.4f}\".format(metrics.accuracy_score(y_test, lr_pred)))\r\n",
    "print(metrics.confusion_matrix(y_test, lr_pred))\r\n",
    "print(\"\")\r\n",
    "print(\"Classification Report\")\r\n",
    "print(metrics.classification_report(y_test, lr_pred))\r\n",
    "print(metrics.recall_score(y_test, lr_pred))"
   ],
   "outputs": [
    {
     "output_type": "stream",
     "name": "stdout",
     "text": [
      "Accuracy: 0.8946\n",
      "[[7209  132]\n",
      " [ 736  161]]\n",
      "\n",
      "Classification Report\n",
      "              precision    recall  f1-score   support\n",
      "\n",
      "           0       0.91      0.98      0.94      7341\n",
      "           1       0.55      0.18      0.27       897\n",
      "\n",
      "    accuracy                           0.89      8238\n",
      "   macro avg       0.73      0.58      0.61      8238\n",
      "weighted avg       0.87      0.89      0.87      8238\n",
      "\n",
      "0.1794871794871795\n"
     ]
    }
   ],
   "metadata": {}
  },
  {
   "cell_type": "markdown",
   "source": [
    "Bisa kita lihat bahwa nilai recall sangat kecil. Hal ini disebabkan karena jumlah klien berlangganan deposit dan tidak berlangganan deposit tidak seimbang. "
   ],
   "metadata": {}
  },
  {
   "cell_type": "code",
   "execution_count": 62,
   "source": [
    "print(\"Jumlah Original Berlangganan Deposit : \", len(y[y == 1]))\r\n",
    "print(\"Jumlah Original Tidak Berlangganan Deposit : \", len(y[y == 0]))"
   ],
   "outputs": [
    {
     "output_type": "stream",
     "name": "stdout",
     "text": [
      "Jumlah Original Berlangganan Deposit :  4640\n",
      "Jumlah Original Tidak Berlangganan Deposit :  36548\n"
     ]
    }
   ],
   "metadata": {}
  },
  {
   "cell_type": "markdown",
   "source": [
    "Sekarang kita akan coba untuk menyeimbangkannya."
   ],
   "metadata": {}
  },
  {
   "cell_type": "code",
   "execution_count": 57,
   "source": [
    "C_start = 0.1\r\n",
    "C_end = 5\r\n",
    "C_inc = 0.1\r\n",
    "\r\n",
    "C_values, recall_scores = [], []\r\n",
    "\r\n",
    "C_val = C_start\r\n",
    "best_recall_score = 0\r\n",
    "while (C_val < C_end):\r\n",
    "    C_values.append(C_val)\r\n",
    "    lr_model_loop = LogisticRegression(C=C_val, class_weight=\"balanced\", random_state=42, solver='liblinear', max_iter=10000)\r\n",
    "    lr_model_loop.fit(x_train, y_train.ravel())\r\n",
    "    lr_predict_loop_test = lr_model_loop.predict(x_test)\r\n",
    "    recall_score = metrics.recall_score(y_test, lr_predict_loop_test)\r\n",
    "    recall_scores.append(recall_score)\r\n",
    "    if (recall_score > best_recall_score):\r\n",
    "        best_recall_score = recall_score\r\n",
    "        best_lr_predict_test = lr_predict_loop_test\r\n",
    "\r\n",
    "    C_val = C_val + C_inc\r\n",
    "\r\n",
    "    best_score_C_val = C_values[recall_scores.index(best_recall_score)]\r\n",
    "    print(\"1st max value of {0:.3f} occured at C={1:.3f}\".format(best_recall_score,best_score_C_val))\r\n",
    "\r\n",
    "    plt.plot(C_values, recall_scores, \"-\")\r\n",
    "    plt.xlabel(\"C value\")\r\n",
    "    plt.ylabel(\"recall score\")"
   ],
   "outputs": [
    {
     "output_type": "stream",
     "name": "stdout",
     "text": [
      "1st max value of 0.707 occured at C=0.100\n",
      "1st max value of 0.709 occured at C=0.200\n",
      "1st max value of 0.709 occured at C=0.200\n",
      "1st max value of 0.709 occured at C=0.200\n",
      "1st max value of 0.709 occured at C=0.200\n",
      "1st max value of 0.709 occured at C=0.200\n",
      "1st max value of 0.709 occured at C=0.200\n",
      "1st max value of 0.709 occured at C=0.200\n",
      "1st max value of 0.709 occured at C=0.200\n",
      "1st max value of 0.709 occured at C=0.200\n",
      "1st max value of 0.709 occured at C=0.200\n",
      "1st max value of 0.709 occured at C=0.200\n",
      "1st max value of 0.709 occured at C=0.200\n",
      "1st max value of 0.709 occured at C=0.200\n",
      "1st max value of 0.709 occured at C=0.200\n",
      "1st max value of 0.709 occured at C=0.200\n",
      "1st max value of 0.709 occured at C=0.200\n",
      "1st max value of 0.709 occured at C=0.200\n",
      "1st max value of 0.709 occured at C=0.200\n",
      "1st max value of 0.709 occured at C=0.200\n",
      "1st max value of 0.709 occured at C=0.200\n",
      "1st max value of 0.709 occured at C=0.200\n",
      "1st max value of 0.709 occured at C=0.200\n",
      "1st max value of 0.709 occured at C=0.200\n",
      "1st max value of 0.709 occured at C=0.200\n",
      "1st max value of 0.709 occured at C=0.200\n",
      "1st max value of 0.709 occured at C=0.200\n",
      "1st max value of 0.709 occured at C=0.200\n",
      "1st max value of 0.709 occured at C=0.200\n",
      "1st max value of 0.709 occured at C=0.200\n",
      "1st max value of 0.709 occured at C=0.200\n",
      "1st max value of 0.709 occured at C=0.200\n",
      "1st max value of 0.709 occured at C=0.200\n",
      "1st max value of 0.709 occured at C=0.200\n",
      "1st max value of 0.709 occured at C=0.200\n",
      "1st max value of 0.709 occured at C=0.200\n",
      "1st max value of 0.709 occured at C=0.200\n",
      "1st max value of 0.709 occured at C=0.200\n",
      "1st max value of 0.709 occured at C=0.200\n",
      "1st max value of 0.709 occured at C=0.200\n",
      "1st max value of 0.709 occured at C=0.200\n",
      "1st max value of 0.709 occured at C=0.200\n",
      "1st max value of 0.709 occured at C=0.200\n",
      "1st max value of 0.709 occured at C=0.200\n",
      "1st max value of 0.709 occured at C=0.200\n",
      "1st max value of 0.709 occured at C=0.200\n",
      "1st max value of 0.709 occured at C=0.200\n",
      "1st max value of 0.709 occured at C=0.200\n",
      "1st max value of 0.709 occured at C=0.200\n",
      "1st max value of 0.709 occured at C=0.200\n"
     ]
    },
    {
     "output_type": "display_data",
     "data": {
      "image/png": "[encoded data removed]",
      "text/plain": [
       "<Figure size 640x480 with 1 Axes>"
      ]
     },
     "metadata": {}
    }
   ],
   "metadata": {}
  },
  {
   "cell_type": "code",
   "execution_count": 58,
   "source": [
    "lr_model = LogisticRegression(class_weight=\"balanced\", C=best_score_C_val, random_state=42, solver='liblinear')\r\n",
    "lr_model.fit(x_train, y_train.ravel())\r\n",
    "lr_predict_test = lr_model.predict(x_test)\r\n",
    "\r\n",
    "print(\"Accuracy: {0:.4f}\".format(metrics.accuracy_score(y_test, lr_predict_test)))\r\n",
    "print(metrics.confusion_matrix(y_test, lr_predict_test))\r\n",
    "print(\"\")\r\n",
    "print(\"Classification Report\")\r\n",
    "print(metrics.classification_report(y_test, lr_predict_test))\r\n",
    "print(metrics.recall_score(y_test, lr_predict_test))"
   ],
   "outputs": [
    {
     "output_type": "stream",
     "name": "stdout",
     "text": [
      "Accuracy: 0.7972\n",
      "[[5931 1410]\n",
      " [ 261  636]]\n",
      "\n",
      "Classification Report\n",
      "              precision    recall  f1-score   support\n",
      "\n",
      "           0       0.96      0.81      0.88      7341\n",
      "           1       0.31      0.71      0.43       897\n",
      "\n",
      "    accuracy                           0.80      8238\n",
      "   macro avg       0.63      0.76      0.65      8238\n",
      "weighted avg       0.89      0.80      0.83      8238\n",
      "\n",
      "0.7090301003344481\n"
     ]
    }
   ],
   "metadata": {}
  },
  {
   "cell_type": "markdown",
   "source": [
    "Sekarang bisa kita lihat nila recall untuk yang berlangganan dan tidak berlangganan sudah sama sama diatas 0.7."
   ],
   "metadata": {}
  }
 ],
 "metadata": {
  "orig_nbformat": 4,
  "language_info": {
   "name": "python",
   "version": "3.9.13",
   "mimetype": "text/x-python",
   "codemirror_mode": {
    "name": "ipython",
    "version": 3
   },
   "pygments_lexer": "ipython3",
   "nbconvert_exporter": "python",
   "file_extension": ".py"
  },
  "kernelspec": {
   "name": "python3",
   "display_name": "Python 3.9.13 64-bit ('base': conda)"
  },
  "interpreter": {
   "hash": "fe6d48a06cf1965613c5c4b5d21b1182ca2e59212f354219b1b23c436410da45"
  }
 },
 "nbformat": 4,
 "nbformat_minor": 2
}